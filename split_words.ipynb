{
 "cells": [
  {
   "cell_type": "markdown",
   "metadata": {},
   "source": [
    "# 文章を単語に分割する"
   ]
  },
  {
   "cell_type": "markdown",
   "metadata": {},
   "source": [
    "# ライブラリのインポート"
   ]
  },
  {
   "cell_type": "code",
   "execution_count": 1,
   "metadata": {},
   "outputs": [],
   "source": [
    "# pip install mecab-python3"
   ]
  },
  {
   "cell_type": "code",
   "execution_count": 2,
   "metadata": {},
   "outputs": [],
   "source": [
    "import MeCab"
   ]
  },
  {
   "cell_type": "markdown",
   "metadata": {},
   "source": [
    "# 形態素解析"
   ]
  },
  {
   "cell_type": "code",
   "execution_count": 3,
   "metadata": {},
   "outputs": [],
   "source": [
    "# mecab-ipadic-neologd 辞書を指定して、MeCabオブジェクトの生成\n",
    "tagger = MeCab.Tagger('-Ochasen -d /opt/homebrew/lib/mecab/dic/mecab-ipadic-neologd') # -Ochasen : 出力形式の指定\n",
    "# tagger = MeCab.Tagger('-d /opt/homebrew/lib/mecab/dic/mecab-ipadic-neologd')"
   ]
  },
  {
   "cell_type": "code",
   "execution_count": 4,
   "metadata": {},
   "outputs": [
    {
     "name": "stdout",
     "output_type": "stream",
     "text": [
      "インスタ映え\tインスタハエ\tインスタ映え\t名詞-固有名詞-一般\t\t\n",
      "EOS\n",
      "\n"
     ]
    }
   ],
   "source": [
    "# 形態素解析\n",
    "result = tagger.parse('インスタ映え') # tagger.parse : 文字列を返す\n",
    "print(result)"
   ]
  },
  {
   "cell_type": "code",
   "execution_count": 5,
   "metadata": {},
   "outputs": [
    {
     "name": "stdout",
     "output_type": "stream",
     "text": [
      "メイ\tメイ\tM.A.Y\t名詞-固有名詞-人名-一般\t\t\n",
      "が\tガ\tが\t助詞-格助詞-一般\t\t\n",
      "恋ダンス\tコイダンス\t恋ダンス\t名詞-固有名詞-一般\t\t\n",
      "を\tヲ\tを\t助詞-格助詞-一般\t\t\n",
      "踊っ\tオドッ\t踊る\t動詞-自立\t五段・ラ行\t連用タ接続\n",
      "て\tテ\tて\t助詞-接続助詞\t\t\n",
      "いる\tイル\tいる\t動詞-非自立\t一段\t基本形\n",
      "。\t。\t。\t記号-句点\t\t\n",
      "EOS\n",
      "\n"
     ]
    }
   ],
   "source": [
    "# 形態素解析\n",
    "result = tagger.parse('メイが恋ダンスを踊っている。')\n",
    "print(result)"
   ]
  },
  {
   "cell_type": "markdown",
   "metadata": {},
   "source": [
    "# ストップワード（Stop Word）の除去"
   ]
  },
  {
   "cell_type": "code",
   "execution_count": 6,
   "metadata": {},
   "outputs": [
    {
     "name": "stdout",
     "output_type": "stream",
     "text": [
      "BOS/EOS,*,*,*,*,*,*,*,*\n",
      "名詞,固有名詞,人名,一般,*,*,M.A.Y,メイ,メイ\n",
      "　　名詞 >> メイ\n",
      "助詞,格助詞,一般,*,*,*,が,ガ,ガ\n",
      "名詞,固有名詞,一般,*,*,*,恋ダンス,コイダンス,コイダンス\n",
      "　　名詞 >> 恋ダンス\n",
      "助詞,格助詞,一般,*,*,*,を,ヲ,ヲ\n",
      "動詞,自立,*,*,五段・ラ行,連用タ接続,踊る,オドッ,オドッ\n",
      "　　動詞 or 形容詞 >> 踊る\n",
      "助詞,接続助詞,*,*,*,*,て,テ,テ\n",
      "動詞,非自立,*,*,一段,基本形,いる,イル,イル\n",
      "　　動詞 or 形容詞 >> いる\n",
      "記号,句点,*,*,*,*,。,。,。\n",
      "BOS/EOS,*,*,*,*,*,*,*,*\n",
      "---------------------------------------\n",
      "['メイ', '恋ダンス', '踊る', 'いる']\n"
     ]
    }
   ],
   "source": [
    "# 形態素解析結果をMeCabe.Nodeクラスオフジェクトとしてnodeに代入\n",
    "node = tagger.parseToNode('メイが恋ダンスを踊っている。')\n",
    "\n",
    "# ストップワード（Stop Word）の除去 ※助詞や助動詞など\n",
    "result = []\n",
    "while node is not None:\n",
    "    # 品詞情報の取得\n",
    "    hinshi = node.feature.split(',')[0]\n",
    "    print(node.feature)\n",
    "\n",
    "    if hinshi in ['名詞']:\n",
    "        # 表層形の取得\n",
    "        print('　　名詞 >> {}'.format(node.surface))\n",
    "        result.append(node.surface)\n",
    "    elif hinshi in ['動詞', '形容詞']:\n",
    "        # 形態素情報から原型情報を取得\n",
    "        print('　　動詞 or 形容詞 >> {}'.format(node.feature.split(',')[6]))\n",
    "        result.append(node.feature.split(',')[6])\n",
    "    # 次の単語に移動\n",
    "    node=node.next\n",
    "print('---------------------------------------')\n",
    "print(result)\n"
   ]
  },
  {
   "cell_type": "code",
   "execution_count": null,
   "metadata": {},
   "outputs": [],
   "source": []
  }
 ],
 "metadata": {
  "kernelspec": {
   "display_name": "Python 3.9 (tensorflow)",
   "language": "python",
   "name": "tensorflow"
  },
  "language_info": {
   "codemirror_mode": {
    "name": "ipython",
    "version": 3
   },
   "file_extension": ".py",
   "mimetype": "text/x-python",
   "name": "python",
   "nbconvert_exporter": "python",
   "pygments_lexer": "ipython3",
   "version": "3.9.12"
  },
  "orig_nbformat": 4
 },
 "nbformat": 4,
 "nbformat_minor": 2
}
