{
 "cells": [
  {
   "cell_type": "markdown",
   "metadata": {},
   "source": [
    "# 文章の自動生成"
   ]
  },
  {
   "cell_type": "markdown",
   "metadata": {},
   "source": [
    "# ライブラリのインストール"
   ]
  },
  {
   "cell_type": "code",
   "execution_count": 1,
   "metadata": {},
   "outputs": [],
   "source": [
    "import MeCab\n",
    "import os, json, random"
   ]
  },
  {
   "cell_type": "markdown",
   "metadata": {},
   "source": [
    "# 設定"
   ]
  },
  {
   "cell_type": "code",
   "execution_count": 20,
   "metadata": {},
   "outputs": [],
   "source": [
    "dict_file = 'data/markov_dict'\n",
    "dic = {}"
   ]
  },
  {
   "cell_type": "markdown",
   "metadata": {},
   "source": [
    "# 関数の作成"
   ]
  },
  {
   "cell_type": "code",
   "execution_count": 21,
   "metadata": {},
   "outputs": [],
   "source": [
    "# 辞書への登録\n",
    "def regist_dic(wordlist):\n",
    "    global dic\n",
    "    w1 = ''\n",
    "    w2 = ''\n",
    "\n",
    "    # 要素が3未満の場合は、何もしない\n",
    "    if len(wordlist) < 3 : return\n",
    "    for w in wordlist:\n",
    "        word = w[0]\n",
    "        if word == \"\" or  word == \"\\r\\n\" or word == \"\\n\" : continue\n",
    "        # 辞書に単語を設定\n",
    "        if w1 and w2 :\n",
    "            set_dic(dic, w1, w2, word)\n",
    "        # 文末を表す語のの場合、連鎖をクリアする\n",
    "        if word == \"。\" or word == \"?\" or  word == \"？\" :\n",
    "            w1 = \"\"\n",
    "            w2 = \"\"\n",
    "            continue\n",
    "        # 次の前後関係を登録するために、単語をスライド\n",
    "        w1, w2 = w2, word\n",
    "    \n",
    "    # 辞書を保存\n",
    "    json.dump(dic, open(dict_file,\"w\", encoding=\"utf-8\"))"
   ]
  },
  {
   "cell_type": "code",
   "execution_count": 22,
   "metadata": {},
   "outputs": [],
   "source": [
    "# 辞書に単語を設定\n",
    "def set_dic(dic, w1, w2, w3):\n",
    "    # 新しい単語の場合は、新しい辞書オブジェクトを作成\n",
    "    if w1 not in dic : dic[w1] = {}\n",
    "    if w2 not in dic[w1] : dic[w1][w2] = {}\n",
    "    if w3 not in dic[w1][w2]: dic[w1][w2][w3] = 0\n",
    "    # 単語の出現数をインクリメントする\n",
    "    dic[w1][w2][w3] += 1\n"
   ]
  },
  {
   "cell_type": "code",
   "execution_count": 23,
   "metadata": {},
   "outputs": [],
   "source": [
    "# 応答文の作成\n",
    "def make_response(word):\n",
    "    res = []\n",
    "    \n",
    "    # 「名詞」/「形容詞」/「動詞」は、文章の意図を示していることが多いと想定し、始点の単語とする。\n",
    "    w1 = word\n",
    "    res.append(w1)\n",
    "    w2 = word_choice(dic[w1])\n",
    "    res.append(w2)\n",
    "    while True:\n",
    "        # w1,w2の組み合わせから予想される、単語を選択\n",
    "        if w1 in dic and w2 in dic[w1] : w3 = word_choice(dic[w1][w2])\n",
    "        else : w3 = \"\"\n",
    "        res.append(w3)\n",
    "        # 文末を表す語の場合、作文を終了\n",
    "        if w3 == \"。\" or w3 == \"?\" or  w3 == \"？\"  or w3 == \"\" :  break\n",
    "        # 次の単語を選択するために、単語をスライド\n",
    "        w1, w2 = w2, w3\n",
    "    return \"\".join(res)"
   ]
  },
  {
   "cell_type": "code",
   "execution_count": 24,
   "metadata": {},
   "outputs": [],
   "source": [
    "def word_choice(candidate):\n",
    "    keys = candidate.keys()\n",
    "    return random.choice(list(keys))"
   ]
  },
  {
   "cell_type": "markdown",
   "metadata": {},
   "source": [
    "# メイン文"
   ]
  },
  {
   "cell_type": "code",
   "execution_count": 30,
   "metadata": {},
   "outputs": [
    {
     "name": "stdout",
     "output_type": "stream",
     "text": [
      "You -> あなたは誰ですか？\n",
      "    Bot -> あなたは大学院生ですか。\n",
      "You -> はいそうです。\n",
      "    Bot -> はい\n",
      "You -> 何を勉強していますか？\n",
      "    Bot -> 何について勉強しましょう。\n",
      "You -> 機械学習はどうでしょうか？\n",
      "    Bot -> 機械学習のタスクについては知っているんですよ。\n",
      "You -> 回帰とか知っていますか？\n",
      "    Bot -> 回帰って聞いたことが決まっていません。\n",
      "You -> 回帰はy=f(x)を調べるものですよ。\n",
      "    Bot -> 回帰って聞いたことあるのですか。\n",
      "You -> 回帰は知っていますか？\n",
      "    Bot -> 回帰はy=f(x)を調べるものですよ。\n",
      "You -> そろそろ疲れたので終わりにしますか？\n",
      "    Bot -> 疲れたので終わりにしましょう。\n",
      "You -> さようなら\n",
      "    Bot -> さようなら\n"
     ]
    }
   ],
   "source": [
    "# 辞書がすでに存在する場合は、最初に読み込む\n",
    "if os.path.exists(dict_file):\n",
    "        dic = json.load(open(dict_file,\"r\"))\n",
    "        \n",
    "while True:\n",
    "    # 標準入力から入力を受け付け、「さようなら」が入力されるまで続ける\n",
    "    text = input(\"You -> \")\n",
    "    if text == \"\" or text == \"さようなら\" : \n",
    "        print('You -> {}'.format(text))\n",
    "        print(\"    Bot -> さようなら\")\n",
    "        break\n",
    "\n",
    "    # 文章整形\n",
    "    if text[-1] != \"。\" and text[-1] != \"?\" and text[-1] != \"？\" : text +=\"。\"\n",
    "    \n",
    "    # 形態素解析\n",
    "    tagger = MeCab.Tagger(\"-d /opt/homebrew/lib/mecab/dic/mecab-ipadic-neologd\")\n",
    "    tagger.parse(\"\") \n",
    "    node =  tagger.parseToNode(text)\n",
    "    \n",
    "    # 形態素解析の結果から、単語と品詞情報を抽出\n",
    "    wordlist = []\n",
    "    while node is not None:\n",
    "        hinshi = node.feature.split(\",\")[0]\n",
    "        if  hinshi not in [\"BOS/EOS\"]:\n",
    "            wordlist.append([node.surface, hinshi])\n",
    "        node = node.next\n",
    "    \n",
    "    # マルコフ連鎖の辞書に登録\n",
    "    regist_dic(wordlist)\n",
    "\n",
    "    # 応答文の作成\n",
    "    for w in wordlist:\n",
    "        word = w[0]\n",
    "        hinshi = w[1]\n",
    "        # 品詞が「感動詞」の場合は、単語をそのまま返す\n",
    "        if hinshi in [ \"感動詞\"] : \n",
    "            print('You -> {}'.format(text))\n",
    "            print(\"    Bot -> \" + word)\n",
    "            break\n",
    "        # 品詞が「名詞」「形容詞」「動詞」の場合で、かつ、辞書に単語が存在する場合は、作文して返す\n",
    "        elif (hinshi in [ \"名詞\" ,\"形容詞\",\"動詞\"]) and (word in dic):\n",
    "            print('You -> {}'.format(text))\n",
    "            print(\"    Bot -> \" + make_response(word))\n",
    "            break"
   ]
  },
  {
   "cell_type": "markdown",
   "metadata": {},
   "source": []
  }
 ],
 "metadata": {
  "kernelspec": {
   "display_name": "Python 3.9 (tensorflow)",
   "language": "python",
   "name": "tensorflow"
  },
  "language_info": {
   "codemirror_mode": {
    "name": "ipython",
    "version": 3
   },
   "file_extension": ".py",
   "mimetype": "text/x-python",
   "name": "python",
   "nbconvert_exporter": "python",
   "pygments_lexer": "ipython3",
   "version": "3.9.12"
  },
  "orig_nbformat": 4
 },
 "nbformat": 4,
 "nbformat_minor": 2
}
