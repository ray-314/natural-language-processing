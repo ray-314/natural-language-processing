{
 "cells": [
  {
   "cell_type": "markdown",
   "metadata": {},
   "source": [
    "# 単語の意味をベクトル化（Doc2Vec）"
   ]
  },
  {
   "cell_type": "markdown",
   "metadata": {},
   "source": [
    "# ライブラリのインストール"
   ]
  },
  {
   "cell_type": "code",
   "execution_count": 1,
   "metadata": {},
   "outputs": [],
   "source": [
    "import zipfile\n",
    "import os.path\n",
    "import os\n",
    "import urllib.request as req\n",
    "import MeCab\n",
    "from gensim import models\n",
    "from gensim.models.doc2vec import TaggedDocument\n",
    "from line_notify import line_notice"
   ]
  },
  {
   "cell_type": "markdown",
   "metadata": {},
   "source": [
    "# Mecabの初期化"
   ]
  },
  {
   "cell_type": "code",
   "execution_count": 2,
   "metadata": {},
   "outputs": [
    {
     "data": {
      "text/plain": [
       "'EOS\\n'"
      ]
     },
     "execution_count": 2,
     "metadata": {},
     "output_type": "execute_result"
    }
   ],
   "source": [
    "mecab = MeCab.Tagger('-d /opt/homebrew/lib/mecab/dic/mecab-ipadic-neologd')\n",
    "mecab.parse('')"
   ]
  },
  {
   "cell_type": "markdown",
   "metadata": {},
   "source": [
    "# 学習対象とする青空文庫の作品リストの作成"
   ]
  },
  {
   "cell_type": "code",
   "execution_count": 3,
   "metadata": {},
   "outputs": [],
   "source": [
    "list = [\n",
    "    {\"auther\":{\n",
    "        \"name\":\"宮澤 賢治\",\n",
    "        \"url\":\"https://www.aozora.gr.jp/cards/000081/files/\"}, \n",
    "     \"books\":[\n",
    "        {\"name\":\"銀河鉄道の夜\",\"zipname\":\"43737_ruby_19028.zip\"},\n",
    "        {\"name\":\"注文の多い料理店\",\"zipname\":\"1927_ruby_17835.zip\"},\n",
    "        {\"name\":\"セロ弾きのゴーシュ\",\"zipname\":\"470_ruby_3987.zip\"},\n",
    "        {\"name\":\"やまなし\",\"zipname\":\"46605_ruby_29758.zip\"},\n",
    "        {\"name\":\"どんぐりと山猫\",\"zipname\":\"43752_ruby_17595.zip\"}]\n",
    "    },\n",
    "    {\"auther\":{\n",
    "        \"name\":\"芥川 竜之介\",\n",
    "        \"url\":\"https://www.aozora.gr.jp/cards/000879/files/\"}, \n",
    "     \"books\":[\n",
    "        {\"name\":\"羅生門\",\"zipname\":\"127_ruby_150.zip\"},\n",
    "        {\"name\":\"鼻\",\"zipname\":\"42_ruby_154.zip\"},\n",
    "        {\"name\":\"河童\",\"zipname\":\"69_ruby_1321.zip\"},\n",
    "        {\"name\":\"歯車\",\"zipname\":\"42377_ruby_34744.zip\"},\n",
    "        {\"name\":\"老年\",\"zipname\":\"131_ruby_241.zip\"}]\n",
    "    },\n",
    "    {\"auther\":{\n",
    "        \"name\":\"ポー エドガー・アラン\",\n",
    "        \"url\":\"https://www.aozora.gr.jp/cards/000094/files/\"}, \n",
    "     \"books\":[\n",
    "        {\"name\":\"ウィリアム・ウィルスン\",\"zipname\":\"2523_ruby_19896.zip\"},\n",
    "        {\"name\":\"落穴と振子\",\"zipname\":\"1871_ruby_17551.zip\"},\n",
    "        {\"name\":\"黒猫\",\"zipname\":\"530_ruby_20931.zip\"},\n",
    "        {\"name\":\"群集の人\",\"zipname\":\"56535_ruby_69925.zip\"},\n",
    "        {\"name\":\"沈黙\",\"zipname\":\"56537_ruby_70425.zip\"}]\n",
    "    },\n",
    "    {\"auther\":{\n",
    "        \"name\":\"紫式部\",\n",
    "        \"url\":\"https://www.aozora.gr.jp/cards/000052/files/\"}, \n",
    "     \"books\":[\n",
    "        {\"name\":\"源氏物語 01 桐壺\",\"zipname\":\"5016_ruby_9746.zip\"},\n",
    "        {\"name\":\"源氏物語 02 帚木\",\"zipname\":\"5017_ruby_9752.zip\"},\n",
    "        {\"name\":\"源氏物語 03 空蝉\",\"zipname\":\"5018_ruby_9754.zip\"},\n",
    "        {\"name\":\"源氏物語 04 夕顔\",\"zipname\":\"5019_ruby_9761.zip\"},\n",
    "        {\"name\":\"源氏物語 05 若紫\",\"zipname\":\"5020_ruby_11253.zip\"}]\n",
    "    }\n",
    "]"
   ]
  },
  {
   "cell_type": "code",
   "execution_count": 4,
   "metadata": {},
   "outputs": [
    {
     "data": {
      "text/plain": [
       "[{'auther': {'name': '宮澤 賢治',\n",
       "   'url': 'https://www.aozora.gr.jp/cards/000081/files/'},\n",
       "  'books': [{'name': '銀河鉄道の夜', 'zipname': '43737_ruby_19028.zip'},\n",
       "   {'name': '注文の多い料理店', 'zipname': '1927_ruby_17835.zip'},\n",
       "   {'name': 'セロ弾きのゴーシュ', 'zipname': '470_ruby_3987.zip'},\n",
       "   {'name': 'やまなし', 'zipname': '46605_ruby_29758.zip'},\n",
       "   {'name': 'どんぐりと山猫', 'zipname': '43752_ruby_17595.zip'}]},\n",
       " {'auther': {'name': '芥川 竜之介',\n",
       "   'url': 'https://www.aozora.gr.jp/cards/000879/files/'},\n",
       "  'books': [{'name': '羅生門', 'zipname': '127_ruby_150.zip'},\n",
       "   {'name': '鼻', 'zipname': '42_ruby_154.zip'},\n",
       "   {'name': '河童', 'zipname': '69_ruby_1321.zip'},\n",
       "   {'name': '歯車', 'zipname': '42377_ruby_34744.zip'},\n",
       "   {'name': '老年', 'zipname': '131_ruby_241.zip'}]},\n",
       " {'auther': {'name': 'ポー エドガー・アラン',\n",
       "   'url': 'https://www.aozora.gr.jp/cards/000094/files/'},\n",
       "  'books': [{'name': 'ウィリアム・ウィルスン', 'zipname': '2523_ruby_19896.zip'},\n",
       "   {'name': '落穴と振子', 'zipname': '1871_ruby_17551.zip'},\n",
       "   {'name': '黒猫', 'zipname': '530_ruby_20931.zip'},\n",
       "   {'name': '群集の人', 'zipname': '56535_ruby_69925.zip'},\n",
       "   {'name': '沈黙', 'zipname': '56537_ruby_70425.zip'}]},\n",
       " {'auther': {'name': '紫式部',\n",
       "   'url': 'https://www.aozora.gr.jp/cards/000052/files/'},\n",
       "  'books': [{'name': '源氏物語 01 桐壺', 'zipname': '5016_ruby_9746.zip'},\n",
       "   {'name': '源氏物語 02 帚木', 'zipname': '5017_ruby_9752.zip'},\n",
       "   {'name': '源氏物語 03 空蝉', 'zipname': '5018_ruby_9754.zip'},\n",
       "   {'name': '源氏物語 04 夕顔', 'zipname': '5019_ruby_9761.zip'},\n",
       "   {'name': '源氏物語 05 若紫', 'zipname': '5020_ruby_11253.zip'}]}]"
      ]
     },
     "execution_count": 4,
     "metadata": {},
     "output_type": "execute_result"
    }
   ],
   "source": [
    "list"
   ]
  },
  {
   "cell_type": "markdown",
   "metadata": {},
   "source": [
    "# 関数の定義"
   ]
  },
  {
   "cell_type": "code",
   "execution_count": 5,
   "metadata": {},
   "outputs": [],
   "source": [
    "# 作品リストを取得してループ処理に渡す\n",
    "def book_list():\n",
    "    for novelist in list:\n",
    "        auther = novelist['auther']\n",
    "        for book in novelist['books']:\n",
    "            yield auther, book # for文で呼び出した時に、順々に値を返すように yield を使用"
   ]
  },
  {
   "cell_type": "code",
   "execution_count": 6,
   "metadata": {},
   "outputs": [],
   "source": [
    "# zipファイルを開き、中の文章を取得する\n",
    "def read_book(auther, book, data_dir=''):\n",
    "    zipname = book['zipname']\n",
    "    # zipファイルがなければ取得する\n",
    "    if data_dir != '':\n",
    "        data_dir = data_dir + '/'\n",
    "    if not os.path.exists(data_dir + zipname):\n",
    "        data = req.urlopen(auther['url'] + zipname).read()\n",
    "        with open(data_dir + zipname, mode=\"wb\") as f:\n",
    "            f.write(data)\n",
    "    # zipファイルを開く\n",
    "    with zipfile.ZipFile(data_dir + zipname, 'r') as zf:\n",
    "        # zipファイルに含まれるファイルを開く。今回はzipは1つのテキストファイルのみを含む\n",
    "        for filename in zf.namelist():\n",
    "            with zf.open(filename, 'r') as f:\n",
    "                return f.read().decode('shift-jis')"
   ]
  },
  {
   "cell_type": "code",
   "execution_count": 7,
   "metadata": {},
   "outputs": [],
   "source": [
    "# 引数のテキストを分かち書きして配列にする\n",
    "def split_words(text):\n",
    "    node = mecab.parseToNode(text)\n",
    "    wakati_words = []\n",
    "    while node is not None:\n",
    "        hinshi = node.feature.split(\",\")[0]\n",
    "        if  hinshi in [\"名詞\"]:\n",
    "            wakati_words.append(node.surface)\n",
    "        elif hinshi in [\"動詞\", \"形容詞\"]:\n",
    "            wakati_words.append(node.feature.split(\",\")[6])\n",
    "        node = node.next\n",
    "    return wakati_words"
   ]
  },
  {
   "cell_type": "markdown",
   "metadata": {},
   "source": [
    "# 学習データの前処理"
   ]
  },
  {
   "cell_type": "code",
   "execution_count": 8,
   "metadata": {},
   "outputs": [],
   "source": [
    "# 作品リストをDoc2Vecが読めるTaggedDocument形式にし、配列に追加する\n",
    "documents = []\n",
    "# 作品リストをループで回す\n",
    "for auther, book in book_list():\n",
    "    # 作品の文字列を取得\n",
    "    words = read_book(auther, book, 'data')\n",
    "    # 作品の文字列を分かち書きに\n",
    "    wakati_words = split_words(words)\n",
    "    # TaggedDocumentの作成　文書=分かち書きにした作品　タグ=作者:作品名\n",
    "    document = TaggedDocument(wakati_words, [auther[\"name\"] + \":\" + book[\"name\"]])\n",
    "    documents.append(document)"
   ]
  },
  {
   "cell_type": "code",
   "execution_count": 27,
   "metadata": {},
   "outputs": [
    {
     "data": {
      "text/plain": [
       "['みなさん', 'ふう', '川', '言', 'い', 'われ', '乳', '流る', 'れる', 'あと']"
      ]
     },
     "execution_count": 27,
     "metadata": {},
     "output_type": "execute_result"
    }
   ],
   "source": [
    "# words\n",
    "documents[0][0][55:65]"
   ]
  },
  {
   "cell_type": "code",
   "execution_count": 11,
   "metadata": {},
   "outputs": [
    {
     "data": {
      "text/plain": [
       "['宮澤 賢治:銀河鉄道の夜']"
      ]
     },
     "execution_count": 11,
     "metadata": {},
     "output_type": "execute_result"
    }
   ],
   "source": [
    "# tags\n",
    "documents[0][1]"
   ]
  },
  {
   "cell_type": "markdown",
   "metadata": {},
   "source": [
    "# モデルの作成・保存"
   ]
  },
  {
   "cell_type": "code",
   "execution_count": 13,
   "metadata": {},
   "outputs": [],
   "source": [
    "# TaggedDocumentの配列を使ってDoc2Vecの学習モデルを作成\n",
    "# dm：Doc2Vecで使うアルゴリズムを選択。（1=dmpw, 0=DBOW）※doc2vecではdmpwの方が計算時間はかかるものの精度が高い ※word2vec（Skip-gram, CBOW：Skip-gramの方が精度が高い）\n",
    "# size：ベクトルの次元を設定。（Doc2Vecでは基本的に300が良いとされています）\n",
    "# window：学習する単語の前後数。（dmpwでは5が良いとされている）\n",
    "# min_count：最低何回出てきた文字列を対象とするかを設定。（今回は作家ごとに独特の言い回しなどがあると考えられるため、1回でも出てきた文字列を対象にしている）\n",
    "model = models.Doc2Vec(documents, dm=0, vector_size=300, window=15, min_count=1)"
   ]
  },
  {
   "cell_type": "code",
   "execution_count": 14,
   "metadata": {},
   "outputs": [
    {
     "data": {
      "text/plain": [
       "0"
      ]
     },
     "execution_count": 14,
     "metadata": {},
     "output_type": "execute_result"
    }
   ],
   "source": [
    "os.system(\"osascript -e 'display notification \\\"Learning finished !!\\\"'\")"
   ]
  },
  {
   "cell_type": "code",
   "execution_count": 15,
   "metadata": {},
   "outputs": [],
   "source": [
    "#Doc2Vecの学習モデルを保存\n",
    "model.save('model/aozora.model')"
   ]
  },
  {
   "cell_type": "code",
   "execution_count": 16,
   "metadata": {},
   "outputs": [
    {
     "name": "stdout",
     "output_type": "stream",
     "text": [
      "Messege : \n",
      "aozora modelの学習が終了しました!!👍\n",
      "Response : 成功\n"
     ]
    }
   ],
   "source": [
    "line_notice().send_messages('aozora modelの学習が終了しました!!👍')"
   ]
  },
  {
   "cell_type": "code",
   "execution_count": null,
   "metadata": {},
   "outputs": [],
   "source": []
  }
 ],
 "metadata": {
  "interpreter": {
   "hash": "4bd624a0593993fe43ac4046b27b898fb2ef75c21c08f81e89e64ea0f51df676"
  },
  "kernelspec": {
   "display_name": "Python 3.9.12 ('tensorflow')",
   "language": "python",
   "name": "python3"
  },
  "language_info": {
   "codemirror_mode": {
    "name": "ipython",
    "version": 3
   },
   "file_extension": ".py",
   "mimetype": "text/x-python",
   "name": "python",
   "nbconvert_exporter": "python",
   "pygments_lexer": "ipython3",
   "version": "3.9.12"
  },
  "orig_nbformat": 4
 },
 "nbformat": 4,
 "nbformat_minor": 2
}
