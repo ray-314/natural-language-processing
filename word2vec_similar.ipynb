{
 "cells": [
  {
   "cell_type": "markdown",
   "metadata": {},
   "source": [
    "# 類義語の探索"
   ]
  },
  {
   "cell_type": "markdown",
   "metadata": {},
   "source": [
    "# ライブラリのインポート"
   ]
  },
  {
   "cell_type": "code",
   "execution_count": 2,
   "metadata": {},
   "outputs": [],
   "source": [
    "from gensim.models import word2vec\n",
    "import MeCab"
   ]
  },
  {
   "cell_type": "markdown",
   "metadata": {},
   "source": [
    "# 類義語"
   ]
  },
  {
   "cell_type": "code",
   "execution_count": 3,
   "metadata": {},
   "outputs": [],
   "source": [
    "model = word2vec.Word2Vec.load('model/wiki.model')"
   ]
  },
  {
   "cell_type": "code",
   "execution_count": 4,
   "metadata": {},
   "outputs": [],
   "source": [
    "tagger = MeCab.Tagger('-Ochasen -d /opt/homebrew/lib/mecab/dic/mecab-ipadic-neologd')\n",
    "# tagger.parse('')"
   ]
  },
  {
   "cell_type": "code",
   "execution_count": 5,
   "metadata": {},
   "outputs": [
    {
     "name": "stdout",
     "output_type": "stream",
     "text": [
      "('事務', 0.8485909700393677)\n",
      "('給与計算', 0.8189194202423096)\n",
      "('コンサルティング業務', 0.817986786365509)\n",
      "('管理部門', 0.816597044467926)\n",
      "('アウトソーサー', 0.815488874912262)\n",
      "('取扱管理者', 0.8151206374168396)\n",
      "('テナントリーシング', 0.8038452863693237)\n",
      "('シップファイナンス', 0.8037606477737427)\n",
      "('統括管理', 0.8037605881690979)\n",
      "('特定派遣', 0.8030219078063965)\n"
     ]
    }
   ],
   "source": [
    "results = model.wv.most_similar(positive=['業務'])\n",
    "for result in results:\n",
    "    print(result)"
   ]
  },
  {
   "cell_type": "code",
   "execution_count": 9,
   "metadata": {},
   "outputs": [
    {
     "name": "stdout",
     "output_type": "stream",
     "text": [
      "('食卓', 0.7995850443840027)\n",
      "('眠れる', 0.7700095176696777)\n",
      "('神様', 0.758125364780426)\n",
      "('女王さま', 0.7579616904258728)\n",
      "('友だち', 0.7409071326255798)\n",
      "('舌つづみ', 0.739982008934021)\n",
      "('夢の国', 0.7398350238800049)\n",
      "('だいなし', 0.7397909760475159)\n",
      "('お姫様', 0.7396267056465149)\n",
      "('夢みる', 0.7377156019210815)\n"
     ]
    }
   ],
   "source": [
    "# 計算 : 王 - 男 + 女 = 女王\n",
    "# positive : 足したいもの, negative : 引きたいもの\n",
    "results = model.wv.most_similar(positive=['王様', '女性'], negative=['男性'])\n",
    "for result in results:\n",
    "    print(result)"
   ]
  },
  {
   "cell_type": "code",
   "execution_count": 7,
   "metadata": {},
   "outputs": [
    {
     "name": "stdout",
     "output_type": "stream",
     "text": [
      "('女優', 0.8558443188667297)\n",
      "('脚本家', 0.8190149664878845)\n",
      "('コメディアン', 0.8139725923538208)\n",
      "('舞台俳優', 0.8120531439781189)\n",
      "('映画監督', 0.8040552735328674)\n",
      "('劇作家', 0.788000226020813)\n",
      "('映画女優', 0.7851806282997131)\n",
      "('舞台女優', 0.7758912444114685)\n",
      "('子役', 0.7680068016052246)\n",
      "('演出家', 0.7516672015190125)\n"
     ]
    }
   ],
   "source": [
    "results = model.wv.most_similar(positive=['俳優', '女性'], negative=['男性'])\n",
    "for result in results:\n",
    "    print(result)"
   ]
  },
  {
   "cell_type": "code",
   "execution_count": 21,
   "metadata": {},
   "outputs": [
    {
     "name": "stdout",
     "output_type": "stream",
     "text": [
      "('ビジネスジャンプ', 0.4474233388900757)\n",
      "('日刊スポーツ出版社', 0.4168282449245453)\n",
      "('別冊漫画ゴラク', 0.41422516107559204)\n",
      "('オークラ出版', 0.4095221757888794)\n",
      "('マガジンGREAT', 0.4072292149066925)\n",
      "('グランドジャンプ', 0.4028171896934509)\n",
      "('ビッグコミックオリジナル増刊', 0.401760995388031)\n",
      "('産経新聞出版', 0.39917290210723877)\n",
      "('メディアボーイ', 0.3986733853816986)\n",
      "('飛鳥新社', 0.398416668176651)\n"
     ]
    }
   ],
   "source": [
    "results = model.wv.most_similar(positive=['少年ジャンプ'], negative=['アニメ'])\n",
    "for result in results:\n",
    "    print(result)"
   ]
  },
  {
   "cell_type": "code",
   "execution_count": 91,
   "metadata": {},
   "outputs": [],
   "source": [
    "# 渡されたテキストに含まれる単語と「至急」の類似度を表示する\n",
    "def print_emargency(text):\n",
    "    print(text)\n",
    "    # 渡されたテキストを形態素解析\n",
    "    node = tagger.parseToNode(text)\n",
    "    while node is not None:\n",
    "        # 品詞情報の取得\n",
    "        hinshi = node.feature.split(',')[0]\n",
    "        if hinshi == '名詞':\n",
    "            # 表層形の取得\n",
    "            print('名詞 　　　　　 >> {}'.format(node.surface))\n",
    "            # 至急との類似度を表示する\n",
    "            print(model.wv.similarity(node.surface, '至急'))\n",
    "        elif hinshi == '動詞' or hinshi == '形容詞':\n",
    "            # 形態素情報から原型情報を取得\n",
    "            print('動詞 or 形容詞 >> {}'.format(node.feature.split(',')[6]))\n",
    "            # 至急との類似度を表示する\n",
    "            print(model.wv.similarity(node.surface, '至急'))\n",
    "        # 次の単語に移動\n",
    "        node=node.next\n"
   ]
  },
  {
   "cell_type": "code",
   "execution_count": 92,
   "metadata": {},
   "outputs": [
    {
     "name": "stdout",
     "output_type": "stream",
     "text": [
      "PCが起動しなくなりました。急いでいます。\n",
      "名詞 　　　　　 >> PC\n",
      "0.266487\n",
      "名詞 　　　　　 >> 起動\n",
      "0.46584836\n",
      "動詞 or 形容詞 >> する\n",
      "0.3739917\n",
      "動詞 or 形容詞 >> なる\n",
      "0.46893948\n",
      "動詞 or 形容詞 >> 急ぐ\n",
      "0.71707916\n",
      "動詞 or 形容詞 >> いる\n",
      "0.36581248\n"
     ]
    }
   ],
   "source": [
    "print_emargency('PCが起動しなくなりました。急いでいます。')"
   ]
  },
  {
   "cell_type": "code",
   "execution_count": 93,
   "metadata": {},
   "outputs": [
    {
     "name": "stdout",
     "output_type": "stream",
     "text": [
      "使い方がよくわかりません。\n",
      "名詞 　　　　　 >> 使い方\n",
      "0.39476186\n",
      "動詞 or 形容詞 >> わかる\n",
      "0.5617329\n"
     ]
    }
   ],
   "source": [
    "print_emargency('使い方がよくわかりません。')"
   ]
  },
  {
   "cell_type": "code",
   "execution_count": null,
   "metadata": {},
   "outputs": [],
   "source": []
  }
 ],
 "metadata": {
  "kernelspec": {
   "display_name": "Python 3.9 (tensorflow)",
   "language": "python",
   "name": "tensorflow"
  },
  "language_info": {
   "codemirror_mode": {
    "name": "ipython",
    "version": 3
   },
   "file_extension": ".py",
   "mimetype": "text/x-python",
   "name": "python",
   "nbconvert_exporter": "python",
   "pygments_lexer": "ipython3",
   "version": "3.9.12"
  },
  "orig_nbformat": 4
 },
 "nbformat": 4,
 "nbformat_minor": 2
}
