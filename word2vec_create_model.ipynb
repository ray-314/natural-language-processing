{
 "cells": [
  {
   "cell_type": "markdown",
   "metadata": {},
   "source": [
    "# 単語の意味をベクトル化（Word2Vec）"
   ]
  },
  {
   "cell_type": "markdown",
   "metadata": {},
   "source": [
    "# ライブラリのインポート"
   ]
  },
  {
   "cell_type": "code",
   "execution_count": 1,
   "metadata": {},
   "outputs": [],
   "source": [
    "# pip install gensim"
   ]
  },
  {
   "cell_type": "code",
   "execution_count": 13,
   "metadata": {},
   "outputs": [],
   "source": [
    "from gensim.models import word2vec\n",
    "from output_directory import Make_dir as md\n",
    "import os"
   ]
  },
  {
   "cell_type": "code",
   "execution_count": 6,
   "metadata": {},
   "outputs": [
    {
     "name": "stdout",
     "output_type": "stream",
     "text": [
      "/Users/master/Desktop/アーカイブ/ML_APP/workspace/natural_language_processing\n",
      "data\n",
      "language_judgment.ipynb\n",
      "split_words.ipynb\n",
      "wiki_wakati.py\n",
      "word2vec.ipynb\n"
     ]
    },
    {
     "data": {
      "text/plain": [
       "0"
      ]
     },
     "execution_count": 6,
     "metadata": {},
     "output_type": "execute_result"
    }
   ],
   "source": [
    "os.system('pwd')\n",
    "os.system('ls')"
   ]
  },
  {
   "cell_type": "markdown",
   "metadata": {},
   "source": [
    "# モデルの作成・保存"
   ]
  },
  {
   "cell_type": "code",
   "execution_count": 7,
   "metadata": {},
   "outputs": [],
   "source": [
    "sentences = word2vec.Text8Corpus('data/wiki_wakati.txt')"
   ]
  },
  {
   "cell_type": "markdown",
   "metadata": {},
   "source": [
    "sg : word2vecで使うアルゴリズム（1:Skip-gram, 0:CBOW）\n",
    "vector_size : ベクトルの次元設定（大体100 ~ 200）※多いほどモデル作成の時間が増加\n",
    "window : 学習する単語の前後数（window=3で「オレンジは甘くて丸くて皮のある食べ物です」を学習するとオレンジという単語と食べ物という単語は関連しなくなる）"
   ]
  },
  {
   "cell_type": "code",
   "execution_count": 10,
   "metadata": {},
   "outputs": [],
   "source": [
    "# モデルの作成\n",
    "# sg：Word2Vecで使うアルゴリズムの選択。（1=Skip-gram, 0=CBOW）\n",
    "# size：ベクトルの次元を設定。（だいたい100~200, 多いほどモデルの作成時間が増加）\n",
    "# window：学習する単語の前後数。\n",
    "model = word2vec.Word2Vec(sentences, sg=1, vector_size=100, window=5)"
   ]
  },
  {
   "cell_type": "code",
   "execution_count": 11,
   "metadata": {},
   "outputs": [
    {
     "data": {
      "text/plain": [
       "0"
      ]
     },
     "execution_count": 11,
     "metadata": {},
     "output_type": "execute_result"
    }
   ],
   "source": [
    "os.system(\"osascript -e 'display notification \\\"NN Learning finished !!\\\"'\")"
   ]
  },
  {
   "cell_type": "code",
   "execution_count": 14,
   "metadata": {},
   "outputs": [
    {
     "name": "stdout",
     "output_type": "stream",
     "text": [
      "Make output directory : model/\n",
      "Output full path : /Users/master/Desktop/アーカイブ/ML_APP/workspace/natural_language_processing/model/\n"
     ]
    }
   ],
   "source": [
    "mdir = md('model')\n",
    "output_path = mdir.make_dir()"
   ]
  },
  {
   "cell_type": "code",
   "execution_count": 15,
   "metadata": {},
   "outputs": [],
   "source": [
    "# モデルの保存\n",
    "model.save(output_path + 'wiki.model')"
   ]
  },
  {
   "cell_type": "code",
   "execution_count": null,
   "metadata": {},
   "outputs": [],
   "source": []
  }
 ],
 "metadata": {
  "kernelspec": {
   "display_name": "Python 3.9 (tensorflow)",
   "language": "python",
   "name": "tensorflow"
  },
  "language_info": {
   "codemirror_mode": {
    "name": "ipython",
    "version": 3
   },
   "file_extension": ".py",
   "mimetype": "text/x-python",
   "name": "python",
   "nbconvert_exporter": "python",
   "pygments_lexer": "ipython3",
   "version": "3.9.12"
  },
  "orig_nbformat": 4
 },
 "nbformat": 4,
 "nbformat_minor": 2
}
